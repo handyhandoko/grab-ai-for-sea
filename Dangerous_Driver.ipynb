{
  "nbformat": 4,
  "nbformat_minor": 0,
  "metadata": {
    "colab": {
      "name": "Dangerous Driver.ipynb",
      "version": "0.3.2",
      "provenance": [],
      "collapsed_sections": []
    },
    "kernelspec": {
      "name": "python3",
      "display_name": "Python 3"
    }
  },
  "cells": [
    {
      "cell_type": "code",
      "metadata": {
        "id": "xOFSYNaUwcRn",
        "colab_type": "code",
        "outputId": "ec712a29-ced2-4292-a89b-4ee90f2a483c",
        "colab": {
          "base_uri": "https://localhost:8080/",
          "height": 197
        }
      },
      "source": [
        "from io import BytesIO\n",
        "from zipfile import ZipFile\n",
        "from urllib.request import urlopen\n",
        "\n",
        "res = urlopen('https://s3-ap-southeast-1.amazonaws.com/grab-aiforsea-dataset/safety.zip')\n",
        "\n",
        "with ZipFile(BytesIO(res.read())) as zip_file:\n",
        "\n",
        "  file_list = zip_file.namelist()\n",
        "\n",
        "  labels = ''\n",
        "  features = ''\n",
        "\n",
        "  for file_name in file_list:\n",
        "    if(file_name.startswith('safety/labels/') and file_name.endswith('.csv')):\n",
        "      with zip_file.open(file_name) as file:\n",
        "        for line in file:\n",
        "          labels = labels + line\n",
        "    if(file_name.startswith('safety/features/') and file_name.endswith('.csv')):\n",
        "      with zip_file.open(file_name) as file:\n",
        "        for line in file:\n",
        "          labels = labels + line"
      ],
      "execution_count": 0,
      "outputs": [
        {
          "output_type": "error",
          "ename": "TypeError",
          "evalue": "ignored",
          "traceback": [
            "\u001b[0;31m---------------------------------------------------------------------------\u001b[0m",
            "\u001b[0;31mTypeError\u001b[0m                                 Traceback (most recent call last)",
            "\u001b[0;32m<ipython-input-9-cfaf222fffe5>\u001b[0m in \u001b[0;36m<module>\u001b[0;34m()\u001b[0m\n\u001b[1;32m     20\u001b[0m       \u001b[0;32mwith\u001b[0m \u001b[0mzip_file\u001b[0m\u001b[0;34m.\u001b[0m\u001b[0mopen\u001b[0m\u001b[0;34m(\u001b[0m\u001b[0mfile_name\u001b[0m\u001b[0;34m)\u001b[0m \u001b[0;32mas\u001b[0m \u001b[0mfile\u001b[0m\u001b[0;34m:\u001b[0m\u001b[0;34m\u001b[0m\u001b[0;34m\u001b[0m\u001b[0m\n\u001b[1;32m     21\u001b[0m         \u001b[0;32mfor\u001b[0m \u001b[0mline\u001b[0m \u001b[0;32min\u001b[0m \u001b[0mfile\u001b[0m\u001b[0;34m:\u001b[0m\u001b[0;34m\u001b[0m\u001b[0;34m\u001b[0m\u001b[0m\n\u001b[0;32m---> 22\u001b[0;31m           \u001b[0mlabels\u001b[0m \u001b[0;34m=\u001b[0m \u001b[0mlabels\u001b[0m \u001b[0;34m+\u001b[0m \u001b[0mline\u001b[0m\u001b[0;34m\u001b[0m\u001b[0;34m\u001b[0m\u001b[0m\n\u001b[0m",
            "\u001b[0;31mTypeError\u001b[0m: must be str, not bytes"
          ]
        }
      ]
    }
  ]
}